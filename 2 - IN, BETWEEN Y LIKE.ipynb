{
 "cells": [
  {
   "cell_type": "markdown",
   "id": "0ec3637d",
   "metadata": {},
   "source": [
    "### *IN*"
   ]
  },
  {
   "cell_type": "code",
   "execution_count": 7,
   "id": "06bb8bf9",
   "metadata": {},
   "outputs": [],
   "source": [
    "import mysql.connector"
   ]
  },
  {
   "cell_type": "code",
   "execution_count": 8,
   "id": "64d4880d",
   "metadata": {},
   "outputs": [
    {
     "name": "stdout",
     "output_type": "stream",
     "text": [
      "========================================================================\n",
      "\t\t\t CONSULTA CON IN\n",
      "========================================================================\n",
      "DIRECCIÓN: 928 Jaffna Loop, DISTRICTO: Hiroshima, CÓDIGO POSTAL: 93762\n",
      "DIRECCIÓN: 1936 Cuman Avenue, DISTRICTO: Virginia, CÓDIGO POSTAL: 61195\n",
      "DIRECCIÓN: 98 Pyongyang Boulevard, DISTRICTO: Ohio, CÓDIGO POSTAL: 88749\n",
      "========================================================================\n",
      "\t\t\t FIN CONSULTA\n",
      "========================================================================\n"
     ]
    }
   ],
   "source": [
    "try:\n",
    "    conexion = mysql.connector.connect(host='localhost', user='root',password='',database='sakila')\n",
    "    cursor = conexion.cursor()\n",
    "    cursor.execute(\"select address, district, postal_code from sakila.address where district in ('Ohio', 'Virginia','Hiroshima') and postal_code > 60000;\")\n",
    "    filas = cursor.fetchall()\n",
    "\n",
    "    print(\"========================================================================\")\n",
    "    print(\"\\t\\t\\t CONSULTA CON IN\")\n",
    "    print(\"========================================================================\")\n",
    "    for fila in filas:\n",
    "        address, district, postal_code = fila\n",
    "        print(f\"DIRECCIÓN: {address}, DISTRICTO: {district}, CÓDIGO POSTAL: {postal_code}\")\n",
    "        \n",
    "    print(\"========================================================================\")\n",
    "    print(\"\\t\\t\\t FIN CONSULTA\")\n",
    "    print(\"========================================================================\")\n",
    "\n",
    "    conexion.commit()\n",
    "    conexion.close()\n",
    "\n",
    "except Exception as e:\n",
    "    print(f\"ERROR DE CONEXION--> {e}\")"
   ]
  },
  {
   "cell_type": "markdown",
   "id": "a917fac8",
   "metadata": {},
   "source": [
    "### *BETWEEN*"
   ]
  },
  {
   "cell_type": "code",
   "execution_count": 17,
   "id": "76aa825d",
   "metadata": {},
   "outputs": [
    {
     "name": "stdout",
     "output_type": "stream",
     "text": [
      "============================================================================\n",
      "\t\t\t CONSULTA CON BETWEEN\n",
      "============================================================================\n",
      "DIRECCIÓN: 32 Pudukkottai Lane, DISTRICTO: Ohio, CÓDIGO POSTAL: 38834\n",
      "DIRECCIÓN: 1635 Kuwana Boulevard, DISTRICTO: Hiroshima, CÓDIGO POSTAL: 52137\n",
      "DIRECCIÓN: 124 al-Manama Way, DISTRICTO: Hiroshima, CÓDIGO POSTAL: 52368\n",
      "============================================================================\n",
      "\t\t\t FIN CONSULTA\n",
      "============================================================================\n"
     ]
    }
   ],
   "source": [
    "try:\n",
    "    conexion = mysql.connector.connect(host='localhost', user='root',password='',database='sakila')\n",
    "    cursor = conexion.cursor()\n",
    "    cursor.execute(\"select address, district, postal_code from sakila.address where district in ('Ohio', 'Virginia','Hiroshima') and postal_code between 30000 and 60000\")\n",
    "    filas = cursor.fetchall()\n",
    "\n",
    "    print(\"============================================================================\")\n",
    "    print(\"\\t\\t\\t CONSULTA CON BETWEEN\")\n",
    "    print(\"============================================================================\")\n",
    "    for fila in filas:\n",
    "        address, district, postal_code = fila\n",
    "        print(f\"DIRECCIÓN: {address}, DISTRICTO: {district}, CÓDIGO POSTAL: {postal_code}\")\n",
    "        \n",
    "    print(\"============================================================================\")\n",
    "    print(\"\\t\\t\\t FIN CONSULTA\")\n",
    "    print(\"============================================================================\")\n",
    "\n",
    "    conexion.commit()\n",
    "    conexion.close()\n",
    "\n",
    "except Exception as e:\n",
    "    print(f\"ERROR DE CONEXION--> {e}\")"
   ]
  },
  {
   "cell_type": "markdown",
   "id": "fa37facd",
   "metadata": {},
   "source": [
    "### *LIKE*"
   ]
  },
  {
   "cell_type": "code",
   "execution_count": 19,
   "id": "8a4841b2",
   "metadata": {},
   "outputs": [
    {
     "name": "stdout",
     "output_type": "stream",
     "text": [
      "================================================\n",
      "\t\t CONSULTA CON LIKE\n",
      "================================================\n",
      "NOMBRE: LAURA, APELLIDO: RODRIGUEZ, ACTIVO: 1\n",
      "NOMBRE: LUIS, APELLIDO: YANEZ, ACTIVO: 1\n",
      "================================================\n",
      "\t\t FIN CONSULTA\n",
      "================================================\n"
     ]
    }
   ],
   "source": [
    "try:\n",
    "    conexion = mysql.connector.connect(host='localhost', user='root',password='',database='sakila')\n",
    "    cursor = conexion.cursor()\n",
    "    cursor.execute(\"select first_name, last_name, active from sakila.customer where first_name like 'L%' and last_name like '%Z%' and active = 1\")\n",
    "    filas = cursor.fetchall()\n",
    "\n",
    "    print(\"================================================\")\n",
    "    print(\"\\t\\t CONSULTA CON LIKE\")\n",
    "    print(\"================================================\")\n",
    "    for fila in filas:\n",
    "        first_name, last_name, active = fila\n",
    "        print(f\"NOMBRE: {first_name}, APELLIDO: {last_name}, ACTIVO: {active}\")\n",
    "        \n",
    "    print(\"================================================\")\n",
    "    print(\"\\t\\t FIN CONSULTA\")\n",
    "    print(\"================================================\")\n",
    "\n",
    "    conexion.commit()\n",
    "    conexion.close()\n",
    "\n",
    "except Exception as e:\n",
    "    print(f\"ERROR DE CONEXION--> {e}\")"
   ]
  }
 ],
 "metadata": {
  "kernelspec": {
   "display_name": "Python 3 (ipykernel)",
   "language": "python",
   "name": "python3"
  },
  "language_info": {
   "codemirror_mode": {
    "name": "ipython",
    "version": 3
   },
   "file_extension": ".py",
   "mimetype": "text/x-python",
   "name": "python",
   "nbconvert_exporter": "python",
   "pygments_lexer": "ipython3",
   "version": "3.9.7"
  }
 },
 "nbformat": 4,
 "nbformat_minor": 5
}

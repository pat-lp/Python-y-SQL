{
 "cells": [
  {
   "cell_type": "markdown",
   "id": "0ec3637d",
   "metadata": {},
   "source": [
    "### *IN*"
   ]
  },
  {
   "cell_type": "code",
   "execution_count": 5,
   "id": "06bb8bf9",
   "metadata": {},
   "outputs": [],
   "source": [
    "import mysql.connector"
   ]
  },
  {
   "cell_type": "code",
   "execution_count": 6,
   "id": "64d4880d",
   "metadata": {},
   "outputs": [
    {
     "name": "stdout",
     "output_type": "stream",
     "text": [
      "\n",
      "\n",
      "RESULTADOS OBTENIDOS\n",
      "Total de registros: 3\n",
      "\n",
      "========================================================================\n",
      "\t\t\t CONSULTA CON IN\n",
      "========================================================================\n",
      "DIRECCIÓN: 928 Jaffna Loop,\n",
      "DISTRITO: Hiroshima,\n",
      "CÓDIGO POSTAL: 93762.\n",
      "-------------------------------\n",
      "DIRECCIÓN: 1936 Cuman Avenue,\n",
      "DISTRITO: Virginia,\n",
      "CÓDIGO POSTAL: 61195.\n",
      "-------------------------------\n",
      "DIRECCIÓN: 98 Pyongyang Boulevard,\n",
      "DISTRITO: Ohio,\n",
      "CÓDIGO POSTAL: 88749.\n",
      "-------------------------------\n",
      "========================================================================\n",
      "\t\t\t FIN CONSULTA\n",
      "========================================================================\n",
      "\n",
      "Cierre de conexión exitoso!!!\n"
     ]
    }
   ],
   "source": [
    "#Consulta con where utilizando in para seleccionar distritos específicos con un código postal mayor a 60000.\n",
    "try:\n",
    "    conexion = mysql.connector.connect(host='localhost', user='root',password='',database='sakila')\n",
    "    cursor = conexion.cursor()\n",
    "    cursor.execute(\"select address, district, postal_code from address where district in ('Ohio', 'Virginia','Hiroshima') and postal_code > 60000\")\n",
    "    filas = cursor.fetchall()\n",
    "    \n",
    "    print(f\"\\n\\nRESULTADOS OBTENIDOS\\nTotal de registros: {cursor.rowcount}\\n\")\n",
    "    print(\"========================================================================\")\n",
    "    print(\"\\t\\t\\t CONSULTA CON IN\")\n",
    "    print(\"========================================================================\")\n",
    "    for fila in filas:\n",
    "        print(f\"DIRECCIÓN: {fila[0]},\\nDISTRITO: {fila[1]},\\nCÓDIGO POSTAL: {fila[2]}.\")\n",
    "        print(\"-------------------------------\")\n",
    "        \n",
    "    print(\"========================================================================\")\n",
    "    print(\"\\t\\t\\t FIN CONSULTA\")\n",
    "    print(\"========================================================================\")\n",
    "\n",
    "    conexion.commit()\n",
    "\n",
    "except Exception as e:\n",
    "    print(f\"ERROR DE CONEXION--> {e}\")\n",
    "finally:\n",
    "    conexion.close()\n",
    "    print(\"\\nCierre de conexión exitoso!!!\")"
   ]
  },
  {
   "cell_type": "markdown",
   "id": "a917fac8",
   "metadata": {},
   "source": [
    "### *BETWEEN*"
   ]
  },
  {
   "cell_type": "code",
   "execution_count": 7,
   "id": "76aa825d",
   "metadata": {},
   "outputs": [
    {
     "name": "stdout",
     "output_type": "stream",
     "text": [
      "\n",
      "\n",
      "RESULTADOS OBTENIDOS\n",
      "Total de registros: 4\n",
      "\n",
      "============================================================================\n",
      "\t\t\t CONSULTA CON BETWEEN\n",
      "============================================================================\n",
      "DIRECCIÓN: 1936 Cuman Avenue,\n",
      "DISTRITO: Virginia,\n",
      "CÓDIGO POSTAL: 61195.\n",
      "-------------------------------\n",
      "DIRECCIÓN: 32 Pudukkottai Lane,\n",
      "DISTRITO: Ohio,\n",
      "CÓDIGO POSTAL: 38834.\n",
      "-------------------------------\n",
      "DIRECCIÓN: 1635 Kuwana Boulevard,\n",
      "DISTRITO: Hiroshima,\n",
      "CÓDIGO POSTAL: 52137.\n",
      "-------------------------------\n",
      "DIRECCIÓN: 124 al-Manama Way,\n",
      "DISTRITO: Hiroshima,\n",
      "CÓDIGO POSTAL: 52368.\n",
      "-------------------------------\n",
      "============================================================================\n",
      "\t\t\t FIN CONSULTA\n",
      "============================================================================\n",
      "\n",
      "Cierre de conexión exitoso!!!\n"
     ]
    }
   ],
   "source": [
    "#Consulta utilizando where para seleccionar un distrito que cumpla la condición del código postal entre 30000 y 70000.\n",
    "try:\n",
    "    conexion = mysql.connector.connect(host='localhost', user='root',password='',database='sakila')\n",
    "    cursor = conexion.cursor()\n",
    "    cursor.execute(\"select address, district, postal_code from address where district in ('Ohio', 'Virginia','Hiroshima') and postal_code between 30000 and 70000\")\n",
    "    filas = cursor.fetchall()\n",
    "\n",
    "    print(f\"\\n\\nRESULTADOS OBTENIDOS\\nTotal de registros: {cursor.rowcount}\\n\")\n",
    "    print(\"============================================================================\")\n",
    "    print(\"\\t\\t\\t CONSULTA CON BETWEEN\")\n",
    "    print(\"============================================================================\")\n",
    "    for fila in filas:\n",
    "        print(f\"DIRECCIÓN: {fila[0]},\\nDISTRITO: {fila[1]},\\nCÓDIGO POSTAL: {fila[2]}.\")\n",
    "        print(\"-------------------------------\")\n",
    "    print(\"============================================================================\")\n",
    "    print(\"\\t\\t\\t FIN CONSULTA\")\n",
    "    print(\"============================================================================\")\n",
    "\n",
    "    conexion.commit()\n",
    "\n",
    "except Exception as e:\n",
    "    print(f\"ERROR DE CONEXION--> {e}\")\n",
    "finally:\n",
    "    conexion.close()\n",
    "    print(\"\\nCierre de conexión exitoso!!!\")"
   ]
  },
  {
   "cell_type": "markdown",
   "id": "fa37facd",
   "metadata": {},
   "source": [
    "### *LIKE*"
   ]
  },
  {
   "cell_type": "code",
   "execution_count": 8,
   "id": "8a4841b2",
   "metadata": {},
   "outputs": [
    {
     "name": "stdout",
     "output_type": "stream",
     "text": [
      "\n",
      "\n",
      "RESULTADOS OBTENIDOS\n",
      "Total de registros: 2\n",
      "\n",
      "================================================\n",
      "\t\t CONSULTA CON LIKE\n",
      "================================================\n",
      "NOMBRE: LAURA,\n",
      "APELLIDO: RODRIGUEZ,\n",
      "ACTIVO: 1.\n",
      "-------------------------------\n",
      "NOMBRE: LUIS,\n",
      "APELLIDO: YANEZ,\n",
      "ACTIVO: 1.\n",
      "-------------------------------\n",
      "================================================\n",
      "\t\t FIN CONSULTA\n",
      "================================================\n",
      "\n",
      "Cierre de conexión exitoso!!!\n"
     ]
    }
   ],
   "source": [
    "#Consulta utilizando where para seleccionar clientes por nombre y apellido cumpliendo las condiciones del like.\n",
    "try:\n",
    "    conexion = mysql.connector.connect(host='localhost', user='root',password='',database='sakila')\n",
    "    cursor = conexion.cursor()\n",
    "    cursor.execute(\"select first_name, last_name, active from customer where first_name like 'L%' and last_name like '%Z%' and active = 1\")\n",
    "    filas = cursor.fetchall()\n",
    "\n",
    "    print(f\"\\n\\nRESULTADOS OBTENIDOS\\nTotal de registros: {cursor.rowcount}\\n\")\n",
    "    print(\"================================================\")\n",
    "    print(\"\\t\\t CONSULTA CON LIKE\")\n",
    "    print(\"================================================\")\n",
    "    for fila in filas:\n",
    "        print(f\"NOMBRE: {fila[0]},\\nAPELLIDO: {fila[1]},\\nACTIVO: {fila[2]}.\")\n",
    "        print(\"-------------------------------\")\n",
    "    print(\"================================================\")\n",
    "    print(\"\\t\\t FIN CONSULTA\")\n",
    "    print(\"================================================\")\n",
    "\n",
    "    conexion.commit()\n",
    "\n",
    "except Exception as e:\n",
    "    print(f\"ERROR DE CONEXION--> {e}\")\n",
    "finally:\n",
    "    conexion.close()\n",
    "    print(\"\\nCierre de conexión exitoso!!!\")"
   ]
  }
 ],
 "metadata": {
  "kernelspec": {
   "display_name": "Python 3 (ipykernel)",
   "language": "python",
   "name": "python3"
  },
  "language_info": {
   "codemirror_mode": {
    "name": "ipython",
    "version": 3
   },
   "file_extension": ".py",
   "mimetype": "text/x-python",
   "name": "python",
   "nbconvert_exporter": "python",
   "pygments_lexer": "ipython3",
   "version": "3.9.7"
  }
 },
 "nbformat": 4,
 "nbformat_minor": 5
}
